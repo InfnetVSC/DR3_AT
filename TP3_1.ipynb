{
  "nbformat": 4,
  "nbformat_minor": 0,
  "metadata": {
    "colab": {
      "provenance": [],
      "authorship_tag": "ABX9TyM7VGr52OuJ+lm+LglZD+bg",
      "include_colab_link": true
    },
    "kernelspec": {
      "name": "python3",
      "display_name": "Python 3"
    },
    "language_info": {
      "name": "python"
    }
  },
  "cells": [
    {
      "cell_type": "markdown",
      "metadata": {
        "id": "view-in-github",
        "colab_type": "text"
      },
      "source": [
        "<a href=\"https://colab.research.google.com/github/InfnetVSC/DR3_AT/blob/main/TP3_1.ipynb\" target=\"_parent\"><img src=\"https://colab.research.google.com/assets/colab-badge.svg\" alt=\"Open In Colab\"/></a>"
      ]
    },
    {
      "cell_type": "code",
      "execution_count": null,
      "metadata": {
        "id": "7cGx93upAf5J",
        "colab": {
          "base_uri": "https://localhost:8080/"
        },
        "outputId": "e52a2ab0-9d92-4555-96cf-afe9fde66cf5"
      },
      "outputs": [
        {
          "output_type": "stream",
          "name": "stdout",
          "text": [
            "Informe o valor total do consumo: R$100\n",
            "Informe o total de pessoas: 2\n",
            "Informe o percentual do serviço, entre 0 e 100%: 10\n",
            "O valor total da conta, com taxa de serviço, será de R$110,0\n",
            "Dividindo a conta por 2 pessoa(s), cada pessoa deverá pagar R$55,0\n"
          ]
        }
      ],
      "source": [
        "# Teste de performance - TP3\n",
        "# 13/06/2022\n",
        "# Disciplina: Lógica, Computação e Algoritmos [22E2_1]\n",
        "# Aluno: Vinícius de Souza Carvalho\n",
        "# Professor: Carlos Vinícius Cavalcanti Pivotto\n",
        "# Questão 1\n",
        "def valor_servico(percentual,valor_conta):\n",
        "    valor_percentual = valor_conta * percentual / 100\n",
        "    valor_total = valor_conta+valor_percentual\n",
        "    return(valor_total)\n",
        "def divisao_conta (pessoas, valor_total):\n",
        "    valor_dividido = valor_total/pessoas\n",
        "    return(valor_dividido)\n",
        "valor_conta = float(input(\"Informe o valor total do consumo: R$\"))\n",
        "pessoas = int(input(\"Informe o total de pessoas: \"))\n",
        "percentual = int(input(\"Informe o percentual do serviço, entre 0 e 100%: \"))\n",
        "valor_total = valor_servico(percentual, valor_conta)\n",
        "valor_dividido = divisao_conta(pessoas,valor_total)\n",
        "valor_dividido = str(valor_dividido).replace('.',',')\n",
        "valor_total = str(valor_total).replace('.',',')\n",
        "print(f\"O valor total da conta, com taxa de serviço, será de R${valor_total}\")\n",
        "print(f\"Dividindo a conta por {pessoas} pessoa(s), cada pessoa deverá pagar R${valor_dividido}\")"
      ]
    }
  ]
}